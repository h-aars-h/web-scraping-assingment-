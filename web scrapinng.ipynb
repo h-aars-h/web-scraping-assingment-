{
 "cells": [
  {
   "cell_type": "code",
   "execution_count": 2,
   "id": "ad9f2e7e-5958-47a0-a647-17637e05c021",
   "metadata": {},
   "outputs": [],
   "source": [
    "# Q1. What is Web Scraping? Why is it Used? Give three areas where Web Scraping is used to get data.\n",
    "# Ans 1 = Web scraping is  way to extatcing a data into website to the help of automation tools . this is mostaly using to\n",
    "#  data visualization and data annalyst and many more field are using web scraping\n",
    "#     1 social media = the social media is extrating a data find what is trending .\n",
    "#     2 commerce = Web scraping is used by and analyze customer reviews.\n",
    "#     3 Research = web scraping data can be used for analysis or to support research studies."
   ]
  },
  {
   "cell_type": "code",
   "execution_count": 1,
   "id": "1c7fb2df-195b-44fd-b022-70ace9994f2a",
   "metadata": {},
   "outputs": [],
   "source": [
    "# Q2. What are the different methods used for Web Scraping?\n",
    "# Ans = 2 HTML Parsing: This method involves parsing the HTML source code of a web page to extract the desired data.\n",
    "# Regular Expressions: This method involves using regular expressions to search for specific patterns in the HTML source code."
   ]
  },
  {
   "cell_type": "code",
   "execution_count": 3,
   "id": "c5e9b9f4-60b4-463d-80d8-5eb20dd10a58",
   "metadata": {},
   "outputs": [],
   "source": [
    "# Q3. What is Beautiful Soup? Why is it used?\n",
    "# Ans 3 =Beautiful Soup is a Python library used for Web Scraping. It is used for parsing HTML. and  it is\n",
    "# commonly used for Web Scraping because it is easy to use, efficient, and flexible."
   ]
  },
  {
   "cell_type": "code",
   "execution_count": 4,
   "id": "8615ae98-e976-4477-a8a3-d13264823840",
   "metadata": {},
   "outputs": [],
   "source": [
    "# Q4. Why is flask used in this Web Scraping project?\n",
    "# ANS 4 =Flask is a lightweight web framework in Python used for building web applications.\n",
    "# Flask is used in this Web Scraping project to create a web application that allows \n",
    "# users to enter a search query and retrieve data from the scraped web pages. \n",
    "# Flask provides a simple and flexible way to build web applications and can be easily\n",
    "# integrated with other Python libraries such as Beautiful Soup."
   ]
  },
  {
   "cell_type": "code",
   "execution_count": null,
   "id": "1d6140e9-dd6a-4945-b436-69d9d58d6989",
   "metadata": {},
   "outputs": [],
   "source": [
    "# Q5. Write the names of AWS services used in this project. Also, explain the use of each service.\n",
    "# Ans 5 =In this project, the following AWS services are used:\n",
    "# Amazon Elastic Compute Cloud (EC2): EC2 is used to provide virtual computing resources for running \n",
    "# the Web Scraping application. EC2 instances are used to host the Flask web application and run the Web Scraping scripts.\n",
    "# Amazon Simple Storage Service (S3): S3 is used to store the scraped data. \n",
    "# The scraped data is stored in S3 buckets, which are scalable and durable storage solutions provided by AWS.\n",
    "# Amazon Relational Database Service (RDS): RDS is used to store the metadata about the scraped data. \n",
    "# RDS provides a scalable and managed database service that is used to store information about the scraped data such as \n",
    "# the date and time it was scraped and the URL it was scraped from."
   ]
  }
 ],
 "metadata": {
  "kernelspec": {
   "display_name": "Python 3 (ipykernel)",
   "language": "python",
   "name": "python3"
  },
  "language_info": {
   "codemirror_mode": {
    "name": "ipython",
    "version": 3
   },
   "file_extension": ".py",
   "mimetype": "text/x-python",
   "name": "python",
   "nbconvert_exporter": "python",
   "pygments_lexer": "ipython3",
   "version": "3.10.6"
  }
 },
 "nbformat": 4,
 "nbformat_minor": 5
}
